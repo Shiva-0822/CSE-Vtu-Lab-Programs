{
 "cells": [
  {
   "cell_type": "markdown",
   "id": "07c20475",
   "metadata": {},
   "source": [
    "LAB 1: Programme to compute area, volume and center of Gravity"
   ]
  },
  {
   "cell_type": "markdown",
   "id": "414f7125",
   "metadata": {},
   "source": [
    "Objectives:\n",
    "Use python\n",
    "\n",
    "1. to evaluate double integration.\n",
    "2. to compute area and volume.\n",
    "3. to calculate center of gravity of 2D object.\n",
    "\n",
    "Syntax for the commands used: -HASSASSIN\n",
    "\n",
    "1. Data pretty printer in Python:\n",
    "\n",
    "pprint ()\n",
    "\n",
    "2. integrate:\n",
    "\n",
    "integrate (function ,(variable, min_limit, max_limit))"
   ]
  },
  {
   "cell_type": "markdown",
   "id": "e9950822",
   "metadata": {},
   "source": [
    "Double and triple integration"
   ]
  },
  {
   "cell_type": "markdown",
   "id": "29fe2833",
   "metadata": {},
   "source": [
    "Evaluate the integral 0|1 0|x (x^2+y^2) dydx"
   ]
  },
  {
   "cell_type": "code",
   "execution_count": 1,
   "id": "9b8c43cc",
   "metadata": {},
   "outputs": [
    {
     "name": "stdout",
     "output_type": "stream",
     "text": [
      "1/3\n"
     ]
    }
   ],
   "source": [
    "from sympy import *\n",
    "x,y,z = symbols('x y z')\n",
    "w1 = integrate (x**2+y**2,(y,0,x),(x,0,1))\n",
    "print(w1)"
   ]
  },
  {
   "cell_type": "markdown",
   "id": "68c0d662",
   "metadata": {},
   "source": [
    "Evaluate the integral 0|3 0|3-x 0|3-x-y (xyz) dzdydx"
   ]
  },
  {
   "cell_type": "code",
   "execution_count": 2,
   "id": "05549faf",
   "metadata": {},
   "outputs": [
    {
     "name": "stdout",
     "output_type": "stream",
     "text": [
      "81/80\n"
     ]
    }
   ],
   "source": [
    "from sympy import *\n",
    "x=Symbol('x')\n",
    "y=Symbol('y')\n",
    "z=Symbol('z')\n",
    "w2=integrate ((x*y*z),(z,0,3-x-y),(y,0,3-x),(x,0,3))\n",
    "print (w2)"
   ]
  },
  {
   "cell_type": "markdown",
   "id": "b7e8b56b",
   "metadata": {},
   "source": [
    "3 Area and Volume\n",
    "\n",
    "Area of the region R in the cartesian form is R| | dxdy"
   ]
  },
  {
   "cell_type": "markdown",
   "id": "486a30de",
   "metadata": {},
   "source": [
    "Find the area of an ellipse by double integration. A=4 0|a(b/a) 0|~a^2-x^2 dydx"
   ]
  },
  {
   "cell_type": "code",
   "execution_count": 3,
   "id": "33ff5698",
   "metadata": {},
   "outputs": [
    {
     "name": "stdout",
     "output_type": "stream",
     "text": [
      "32.0*sqrt(2)\n"
     ]
    }
   ],
   "source": [
    "from sympy import *\n",
    "x=Symbol('x')\n",
    "y=Symbol('y')\n",
    "a=4\n",
    "b=6\n",
    "w3=4*integrate(1,(y,0,(b/a)*sqrt(a*+2-x*+2)),(x,0,a))\n",
    "print (w3)"
   ]
  },
  {
   "cell_type": "markdown",
   "id": "e1c3aad5",
   "metadata": {},
   "source": [
    "5 Volume of a solid is given by V| | | dxdydz"
   ]
  },
  {
   "cell_type": "markdown",
   "id": "b756d6dc",
   "metadata": {},
   "source": [
    "Find the volume of the tetrahedron bounded by the planes x=0,y=0 and z=0,x/a + y/b + z/c = 1"
   ]
  },
  {
   "cell_type": "code",
   "execution_count": 5,
   "id": "512f19d8",
   "metadata": {},
   "outputs": [
    {
     "name": "stdout",
     "output_type": "stream",
     "text": [
      "a*b*c/6\n"
     ]
    }
   ],
   "source": [
    "from sympy import *\n",
    "x=Symbol('x')\n",
    "y=Symbol('y')\n",
    "z=Symbol('z')\n",
    "a=Symbol('a')\n",
    "b=Symbol('b')\n",
    "c=Symbol('c')\n",
    "w2=integrate(1,(z,0,c*(1-x/a-y/b)),(y,0,b*(1-x/a)),(x,0,a))\n",
    "print (w2)"
   ]
  },
  {
   "cell_type": "markdown",
   "id": "1dc1a3fb",
   "metadata": {},
   "source": [
    "LAB 2: Evaluation of improper integrals, Beta and\n",
    "Gamma functions\n",
    "Objectives:\n",
    "Use python\n",
    "1. to evaluate improper integrals using Beta function.\n",
    "2. to evaluate improper integrals using Gamma function."
   ]
  },
  {
   "cell_type": "markdown",
   "id": "ec463b4d",
   "metadata": {},
   "source": [
    "Evaluate\n",
    "∞R\n",
    "0\n",
    "e−xdx"
   ]
  },
  {
   "cell_type": "code",
   "execution_count": 1,
   "id": "ce7cd927",
   "metadata": {},
   "outputs": [
    {
     "name": "stdout",
     "output_type": "stream",
     "text": [
      "1\n"
     ]
    }
   ],
   "source": [
    "from sympy import *\n",
    "x = symbols ( 'x ')\n",
    "w1 = integrate ( exp ( - x ) ,(x ,0 , float ( ' inf ') ) )\n",
    "print ( simplify ( w1 ) )"
   ]
  },
  {
   "cell_type": "markdown",
   "id": "bcf003e6",
   "metadata": {},
   "source": [
    "Evaluate Γ(5) by using definition"
   ]
  },
  {
   "cell_type": "code",
   "execution_count": 2,
   "id": "dda0b3d5",
   "metadata": {},
   "outputs": [
    {
     "name": "stdout",
     "output_type": "stream",
     "text": [
      "24\n"
     ]
    }
   ],
   "source": [
    "from sympy import *\n",
    "x = symbols ( 'x ')\n",
    "w1 = integrate ( exp ( - x ) * x ** 4 ,( x ,0 , float ( ' inf ') ) )\n",
    "print ( simplify ( w1 ) )"
   ]
  },
  {
   "cell_type": "markdown",
   "id": "9e020489",
   "metadata": {},
   "source": [
    "Find Beta(3,5), Gamma(5)"
   ]
  },
  {
   "cell_type": "code",
   "execution_count": 4,
   "id": "082c52c6",
   "metadata": {},
   "outputs": [
    {
     "name": "stdout",
     "output_type": "stream",
     "text": [
      "m : 3\n",
      "n : 5\n",
      " gamma ( 5.0 ) is  24.000 \n",
      " Beta ( 3.0 5.0 ) is  0.010 \n"
     ]
    }
   ],
   "source": [
    "from sympy import beta , gamma\n",
    "m = input ( 'm : ') ;\n",
    "n = input ( 'n : ') ;\n",
    "m = float ( m ) ;\n",
    "n = float ( n ) ;\n",
    "s = beta (m , n ) ;\n",
    "t = gamma ( n )\n",
    "print ( ' gamma (' ,n , ') is % 3.3f '% t )\n",
    "print ( ' Beta (' ,m ,n , ') is % 3.3f '% s )"
   ]
  },
  {
   "cell_type": "markdown",
   "id": "da1ea44d",
   "metadata": {},
   "source": [
    "Calculate Beta(5/2,7/2) and Gamma(5/2)."
   ]
  },
  {
   "cell_type": "code",
   "execution_count": 6,
   "id": "f562a8d6",
   "metadata": {},
   "outputs": [
    {
     "name": "stdout",
     "output_type": "stream",
     "text": [
      "m : 2.5\n",
      "n : 3.5\n",
      " gamma (  3.5 ) is  3.323 \n",
      " Beta (  2.5 3.5 ) is  0.037 \n"
     ]
    }
   ],
   "source": [
    "from sympy import beta , gamma\n",
    "m = float ( input ( 'm : ') ) ;\n",
    "n = float ( input ( 'n : ') ) ;\n",
    "s = beta (m , n ) ;\n",
    "t = gamma ( n )\n",
    "print ( ' gamma ( ' ,n , ') is % 3.3f '% t )\n",
    "print ( ' Beta ( ' ,m ,n , ') is % 3.3f '% s )"
   ]
  },
  {
   "cell_type": "markdown",
   "id": "0580277c",
   "metadata": {},
   "source": [
    "Verify that Beta(m, n) = Gamma(m)Gamma(n)/Gamma(m + n) for m=5 and n=7"
   ]
  },
  {
   "cell_type": "code",
   "execution_count": 9,
   "id": "867c8745",
   "metadata": {},
   "outputs": [
    {
     "name": "stdout",
     "output_type": "stream",
     "text": [
      "0.000432900432900433 0.000432900432900433\n",
      " beta and gamma are related \n"
     ]
    }
   ],
   "source": [
    "from sympy import beta , gamma\n",
    "m = 5 ;\n",
    "n = 7 ;\n",
    "m = float ( m ) ;\n",
    "n = float ( n ) ;\n",
    "s = beta (m , n ) ;\n",
    "t = ( gamma ( m ) * gamma ( n ) ) / gamma ( m + n ) ;\n",
    "print (s , t )\n",
    "if ( abs ( s - t ) <= 0.00001 ) :\n",
    "    print ( ' beta and gamma are related ')\n",
    "else :\n",
    "    print ( ' given values are wrong ')"
   ]
  },
  {
   "cell_type": "markdown",
   "id": "370c7901",
   "metadata": {},
   "source": [
    "LAB 3: Finding gradient, divergent, curl and their\n",
    "geometrical interpretation\n",
    "1.1 Objectives:\n",
    "Use python\n",
    "1. to find the gradient of a given scalar function.\n",
    "2. to find find divergence and curl of a vector function."
   ]
  },
  {
   "cell_type": "markdown",
   "id": "fa500b45",
   "metadata": {},
   "source": [
    "To find gradient of ϕ = x2y + 2xz − 4."
   ]
  },
  {
   "cell_type": "code",
   "execution_count": 12,
   "id": "8924ae32",
   "metadata": {},
   "outputs": [
    {
     "data": {
      "text/latex": [
       "$\\displaystyle \\left(\\frac{\\partial}{\\partial \\mathbf{{x}_{N }}} \\left(\\mathbf{{x}_{N }}^{2} \\mathbf{{y}_{N }} + 2 \\mathbf{{x}_{N }} \\mathbf{{z}_{N }} - 4\\right)\\right)\\mathbf{\\hat{i}_{N }} + \\left(\\frac{\\partial}{\\partial \\mathbf{{y}_{N }}} \\left(\\mathbf{{x}_{N }}^{2} \\mathbf{{y}_{N }} + 2 \\mathbf{{x}_{N }} \\mathbf{{z}_{N }} - 4\\right)\\right)\\mathbf{\\hat{j}_{N }} + \\left(\\frac{\\partial}{\\partial \\mathbf{{z}_{N }}} \\left(\\mathbf{{x}_{N }}^{2} \\mathbf{{y}_{N }} + 2 \\mathbf{{x}_{N }} \\mathbf{{z}_{N }} - 4\\right)\\right)\\mathbf{\\hat{k}_{N }}$"
      ],
      "text/plain": [
       "(Derivative(N .x**2*N .y + 2*N .x*N .z - 4, N .x))*N .i + (Derivative(N .x**2*N .y + 2*N .x*N .z - 4, N .y))*N .j + (Derivative(N .x**2*N .y + 2*N .x*N .z - 4, N .z))*N .k"
      ]
     },
     "metadata": {},
     "output_type": "display_data"
    },
    {
     "name": "stdout",
     "output_type": "stream",
     "text": [
      " \\ n Gradient of N .x**2*N .y + 2*N .x*N .z - 4 is \\ n \n"
     ]
    },
    {
     "data": {
      "text/latex": [
       "$\\displaystyle \\left(2 \\mathbf{{x}_{N }} \\mathbf{{y}_{N }} + 2 \\mathbf{{z}_{N }}\\right)\\mathbf{\\hat{i}_{N }} + \\left(\\mathbf{{x}_{N }}^{2}\\right)\\mathbf{\\hat{j}_{N }} + \\left(2 \\mathbf{{x}_{N }}\\right)\\mathbf{\\hat{k}_{N }}$"
      ],
      "text/plain": [
       "(2*N .x*N .y + 2*N .z)*N .i + N .x**2*N .j + 2*N .x*N .k"
      ]
     },
     "metadata": {},
     "output_type": "display_data"
    }
   ],
   "source": [
    "from sympy . vector import *\n",
    "from sympy import symbols\n",
    "N = CoordSys3D ( 'N ') # Setting the coordinate system\n",
    "x ,y , z = symbols ( 'x y z ')\n",
    "A = N . x ** 2 * N . y + 2 * N . x * N . z - 4 # Variables x ,y , z to be used with coordinate system N\n",
    "delop = Del () # Del operator\n",
    "display ( delop ( A ) ) # Del operator applied to A\n",
    "gradA = gradient ( A ) # Gradient function is used\n",
    "print (f\" \\ n Gradient of { A } is \\ n \" )\n",
    "display ( gradA )"
   ]
  },
  {
   "cell_type": "markdown",
   "id": "13097096",
   "metadata": {},
   "source": [
    "To find divergence of⃗ F = x2yzˆi + y2zxˆj + z2xyˆk"
   ]
  },
  {
   "cell_type": "code",
   "execution_count": 14,
   "id": "34b41598",
   "metadata": {},
   "outputs": [
    {
     "data": {
      "text/latex": [
       "$\\displaystyle \\frac{\\partial}{\\partial \\mathbf{{z}_{N }}} \\mathbf{{x}_{N }} \\mathbf{{y}_{N }} \\mathbf{{z}_{N }}^{2} + \\frac{\\partial}{\\partial \\mathbf{{y}_{N }}} \\mathbf{{x}_{N }} \\mathbf{{y}_{N }}^{2} \\mathbf{{z}_{N }} + \\frac{\\partial}{\\partial \\mathbf{{x}_{N }}} \\mathbf{{x}_{N }}^{2} \\mathbf{{y}_{N }} \\mathbf{{z}_{N }}$"
      ],
      "text/plain": [
       "Derivative(N .x*N .y*N .z**2, N .z) + Derivative(N .x*N .y**2*N .z, N .y) + Derivative(N .x**2*N .y*N .z, N .x)"
      ]
     },
     "metadata": {},
     "output_type": "display_data"
    },
    {
     "name": "stdout",
     "output_type": "stream",
     "text": [
      " \\ n Divergence of N .x**2*N .y*N .z*N .i + N .x*N .y**2*N .z*N .j + N .x*N .y*N .z**2*N .k is \\ n \n"
     ]
    },
    {
     "data": {
      "text/latex": [
       "$\\displaystyle 6 \\mathbf{{x}_{N }} \\mathbf{{y}_{N }} \\mathbf{{z}_{N }}$"
      ],
      "text/plain": [
       "6*N .x*N .y*N .z"
      ]
     },
     "metadata": {},
     "output_type": "display_data"
    }
   ],
   "source": [
    "from sympy . vector import *\n",
    "from sympy import symbols\n",
    "N = CoordSys3D ( 'N ')\n",
    "x ,y , z = symbols ( 'x y z ')\n",
    "A = N . x ** 2 * N . y * N . z * N . i + N . y ** 2 * N . z * N . x * N . j + N . z ** 2 * N . x * N . y * N . k\n",
    "delop = Del ()\n",
    "divA = delop . dot ( A )\n",
    "display ( divA )\n",
    "print (f\" \\ n Divergence of { A } is \\ n \" )\n",
    "display ( divergence ( A ) )"
   ]
  },
  {
   "cell_type": "markdown",
   "id": "11fe5195",
   "metadata": {},
   "source": [
    "To find curl of⃗ F = x2yzˆi + y2zxˆj + z2xyˆk"
   ]
  },
  {
   "cell_type": "code",
   "execution_count": 15,
   "id": "09e8b3ef",
   "metadata": {},
   "outputs": [
    {
     "data": {
      "text/latex": [
       "$\\displaystyle \\left(\\frac{\\partial}{\\partial \\mathbf{{y}_{N }}} \\mathbf{{x}_{N }} \\mathbf{{y}_{N }} \\mathbf{{z}_{N }}^{2} - \\frac{\\partial}{\\partial \\mathbf{{z}_{N }}} \\mathbf{{x}_{N }} \\mathbf{{y}_{N }}^{2} \\mathbf{{z}_{N }}\\right)\\mathbf{\\hat{i}_{N }} + \\left(- \\frac{\\partial}{\\partial \\mathbf{{x}_{N }}} \\mathbf{{x}_{N }} \\mathbf{{y}_{N }} \\mathbf{{z}_{N }}^{2} + \\frac{\\partial}{\\partial \\mathbf{{z}_{N }}} \\mathbf{{x}_{N }}^{2} \\mathbf{{y}_{N }} \\mathbf{{z}_{N }}\\right)\\mathbf{\\hat{j}_{N }} + \\left(\\frac{\\partial}{\\partial \\mathbf{{x}_{N }}} \\mathbf{{x}_{N }} \\mathbf{{y}_{N }}^{2} \\mathbf{{z}_{N }} - \\frac{\\partial}{\\partial \\mathbf{{y}_{N }}} \\mathbf{{x}_{N }}^{2} \\mathbf{{y}_{N }} \\mathbf{{z}_{N }}\\right)\\mathbf{\\hat{k}_{N }}$"
      ],
      "text/plain": [
       "(Derivative(N .x*N .y*N .z**2, N .y) - Derivative(N .x*N .y**2*N .z, N .z))*N .i + (-Derivative(N .x*N .y*N .z**2, N .x) + Derivative(N .x**2*N .y*N .z, N .z))*N .j + (Derivative(N .x*N .y**2*N .z, N .x) - Derivative(N .x**2*N .y*N .z, N .y))*N .k"
      ]
     },
     "metadata": {},
     "output_type": "display_data"
    },
    {
     "name": "stdout",
     "output_type": "stream",
     "text": [
      " \\ n Curl of N .x**2*N .y*N .z*N .i + N .x*N .y**2*N .z*N .j + N .x*N .y*N .z**2*N .k is \\ n \n"
     ]
    },
    {
     "data": {
      "text/latex": [
       "$\\displaystyle \\left(- \\mathbf{{x}_{N }} \\mathbf{{y}_{N }}^{2} + \\mathbf{{x}_{N }} \\mathbf{{z}_{N }}^{2}\\right)\\mathbf{\\hat{i}_{N }} + \\left(\\mathbf{{x}_{N }}^{2} \\mathbf{{y}_{N }} - \\mathbf{{y}_{N }} \\mathbf{{z}_{N }}^{2}\\right)\\mathbf{\\hat{j}_{N }} + \\left(- \\mathbf{{x}_{N }}^{2} \\mathbf{{z}_{N }} + \\mathbf{{y}_{N }}^{2} \\mathbf{{z}_{N }}\\right)\\mathbf{\\hat{k}_{N }}$"
      ],
      "text/plain": [
       "(-N .x*N .y**2 + N .x*N .z**2)*N .i + (N .x**2*N .y - N .y*N .z**2)*N .j + (-N .x**2*N .z + N .y**2*N .z)*N .k"
      ]
     },
     "metadata": {},
     "output_type": "display_data"
    }
   ],
   "source": [
    "from sympy . vector import *\n",
    "from sympy import symbols\n",
    "N = CoordSys3D ( 'N ')\n",
    "x ,y , z = symbols ( 'x y z ')\n",
    "A = N . x ** 2 * N . y * N . z * N . i + N . y ** 2 * N . z * N . x * N . j + N . z ** 2 * N . x * N . y * N . k\n",
    "delop = Del ()\n",
    "curlA = delop . cross ( A )\n",
    "display ( curlA )\n",
    "print (f\" \\ n Curl of { A } is \\ n \" )\n",
    "display ( curl ( A ) )"
   ]
  },
  {
   "cell_type": "markdown",
   "id": "ecd1b6c4",
   "metadata": {},
   "source": [
    "To find gradient of ϕ = x2yz."
   ]
  },
  {
   "cell_type": "code",
   "execution_count": 18,
   "id": "d70397d8",
   "metadata": {},
   "outputs": [
    {
     "name": "stdout",
     "output_type": "stream",
     "text": [
      " Given scalar function F = \n"
     ]
    },
    {
     "data": {
      "text/latex": [
       "$\\displaystyle x^{2} y z$"
      ],
      "text/plain": [
       "x**2*y*z"
      ]
     },
     "metadata": {},
     "output_type": "display_data"
    },
    {
     "name": "stdout",
     "output_type": "stream",
     "text": [
      " \\ n Gradient of F = \n"
     ]
    },
    {
     "data": {
      "text/latex": [
       "$\\displaystyle 2 x y z\\mathbf{\\hat{v }_x} + x^{2} z\\mathbf{\\hat{v }_y} + x^{2} y\\mathbf{\\hat{v }_z}$"
      ],
      "text/plain": [
       "2*x*y*z*v .x + x**2*z*v .y + x**2*y*v .z"
      ]
     },
     "metadata": {},
     "output_type": "display_data"
    }
   ],
   "source": [
    "from sympy . physics . vector import *\n",
    "from sympy import var , pprint\n",
    "var ( 'x ,y , z ')\n",
    "v = ReferenceFrame ( 'v ')\n",
    "F = v [ 0 ] ** 2 * v [ 1 ] * v [ 2 ]\n",
    "G = gradient (F , v )\n",
    "F = F . subs ( [ ( v [ 0 ] ,x ) ,( v [ 1 ] ,y ) ,( v [ 2 ] ,z ) ] )\n",
    "print ( \" Given scalar function F = \" )\n",
    "display ( F )\n",
    "G = G . subs ( [ ( v [ 0 ] ,x ) ,( v [ 1 ] ,y ) ,( v [ 2 ] ,z ) ] )\n",
    "print ( \" \\ n Gradient of F = \" )\n",
    "display ( G )"
   ]
  },
  {
   "cell_type": "markdown",
   "id": "e31f932a",
   "metadata": {},
   "source": [
    "LAB 5: Computing the inner product and orthogonality\n",
    "Objectives:\n",
    "Use python\n",
    "1. to compute the inner product of two vectors.\n",
    "2. to check whether the given vectors are orthogonal."
   ]
  },
  {
   "cell_type": "markdown",
   "id": "30969d1d",
   "metadata": {},
   "source": [
    "Find the inner product of the vectors (2, 1, 5, 4) and (3, 4, 7, 8)."
   ]
  },
  {
   "cell_type": "code",
   "execution_count": 16,
   "id": "d6462a2a",
   "metadata": {},
   "outputs": [
    {
     "name": "stdout",
     "output_type": "stream",
     "text": [
      "77\n"
     ]
    }
   ],
   "source": [
    "import numpy as np\n",
    "# initialize arrays\n",
    "A = np . array ( [2 , 1 , 5 , 4 ] )\n",
    "B = np . array ( [3 , 4 , 7 , 8 ] )\n",
    "# dot product\n",
    "output = np . dot (A , B )\n",
    "print ( output )"
   ]
  },
  {
   "cell_type": "markdown",
   "id": "1f6da826",
   "metadata": {},
   "source": [
    "Verify whether the following vectors (2, 1, 5, 4) and (3, 4, 7, 8) are orthogonal."
   ]
  },
  {
   "cell_type": "code",
   "execution_count": 17,
   "id": "c36f589d",
   "metadata": {},
   "outputs": [
    {
     "name": "stdout",
     "output_type": "stream",
     "text": [
      " Inner product is :  77\n",
      " given vectors are not orthognal \n"
     ]
    }
   ],
   "source": [
    "import numpy as np\n",
    "# initialize arrays\n",
    "A = np . array ( [2 , 1 , 5 , 4 ] )\n",
    "B = np . array ( [3 , 4 , 7 , 8 ] )\n",
    "# dot product\n",
    "output = np . dot (A , B )\n",
    "print ( ' Inner product is : ' , output )\n",
    "if output == 0 :\n",
    "    print ( ' given vectors are orthognal ')\n",
    "else :\n",
    "    print ( ' given vectors are not orthognal ')"
   ]
  },
  {
   "cell_type": "markdown",
   "id": "3c94b84a",
   "metadata": {},
   "source": [
    "LAB 6: Solution of algebraic and transcendental equa-\n",
    "tion by Regula-Falsi and Newton-Raphson method\n",
    "Objectives:\n",
    "Use python\n",
    "1. to solve algebraic and transcendental equation by Regula-Falsi method.\n",
    "2. to solve algebraic and transcendental equation by Newton-Raphson method."
   ]
  },
  {
   "cell_type": "markdown",
   "id": "b2874de8",
   "metadata": {},
   "source": [
    "Obtain a root of the equation x3 − 2x − 5 = 0 between 2 and 3 by regula-falsi method.\n",
    "Perform 5 iterations."
   ]
  },
  {
   "cell_type": "code",
   "execution_count": 3,
   "id": "d15b2dd1",
   "metadata": {},
   "outputs": [
    {
     "name": "stdout",
     "output_type": "stream",
     "text": [
      "Enter the functionx**3-2*x-5\n",
      "Enter a valus : 2\n",
      "Enter b valus : 3\n",
      "Enter number of iterations : 5\n",
      " itration 1 \t the root  2.059 \t function value -0.391 \n",
      " \n",
      " itration 2 \t the root  2.081 \t function value -0.147 \n",
      " \n",
      " itration 3 \t the root  2.090 \t function value -0.055 \n",
      " \n",
      " itration 4 \t the root  2.093 \t function value -0.020 \n",
      " \n",
      " itration 5 \t the root  2.094 \t function value -0.007 \n",
      " \n"
     ]
    }
   ],
   "source": [
    "from sympy import *\n",
    "x = Symbol ('x')\n",
    "g = input ('Enter the function') # % x ^3 - 2 *x - 5 ; % function\n",
    "f = lambdify (x,g)\n",
    "a = float (input ('Enter a valus : ') ) # 2\n",
    "b = float (input ('Enter b valus : ') ) # 3\n",
    "N = int (input ('Enter number of iterations : ')) # 5\n",
    "for i in range (1,N+1) :\n",
    "    c = (a*f(b)-b*f(a))/(f(b)-f(a))\n",
    "    if ((f(a)*f(c)<0)) :\n",
    "        b = c\n",
    "    else :\n",
    "        a = c\n",
    "        print ( ' itration %d \\t the root %0.3f \\t function value %0.3f \\n '%(i ,c , f ( c ) ) ) ;"
   ]
  },
  {
   "cell_type": "markdown",
   "id": "7fb75992",
   "metadata": {},
   "source": [
    "Newton-Raphson method to solve a transcendental equation"
   ]
  },
  {
   "cell_type": "markdown",
   "id": "f757a48d",
   "metadata": {},
   "source": [
    "Find a root of the equation 3x = cos x + 1, near 1, by Newton Raphson method. Perform\n",
    "5 iterations"
   ]
  },
  {
   "cell_type": "code",
   "execution_count": 3,
   "id": "08677fb4",
   "metadata": {},
   "outputs": [
    {
     "name": "stdout",
     "output_type": "stream",
     "text": [
      "Enter the function 3*x-cos(x)-1\n",
      "Enter the intial approximation 1\n",
      "Enter the number of iterations 5\n",
      "itration 1 \t the root 0.620 \t function value 0.046 \n",
      " \n",
      "itration 2 \t the root 0.607 \t function value 0.000 \n",
      " \n",
      "itration 3 \t the root 0.607 \t function value 0.000 \n",
      " \n",
      "itration 4 \t the root 0.607 \t function value 0.000 \n",
      " \n",
      "itration 5 \t the root 0.607 \t function value -0.000 \n",
      " \n"
     ]
    }
   ],
   "source": [
    "from sympy import *\n",
    "x = Symbol('x')\n",
    "g = input('Enter the function ') # % 3x - cos ( x ) -1 ; % function\n",
    "f = lambdify(x,g)\n",
    "dg = diff(g);\n",
    "df = lambdify(x,dg)\n",
    "x0 = float(input ('Enter the intial approximation ')); # x0 = 1\n",
    "n = int(input ('Enter the number of iterations ')); # n = 5 ;\n",
    "for i in range (1,n + 1):\n",
    "    x1 = (x0-(f(x0)/df(x0)))\n",
    "    print ('itration %d \\t the root %0.3f \\t function value %0.3f \\n '%(i,x1,f(x1)));\n",
    "    x0 = x1"
   ]
  },
  {
   "cell_type": "markdown",
   "id": "0111e478",
   "metadata": {},
   "source": [
    "LAB 7: Interpolation /Extrapolation using Newton’s\n",
    "forward and backward difference formula\n",
    "Objectives:\n",
    "Use python\n",
    "1. to interpolate using Newton’s Forward interpolation method.\n",
    "2. to interpolate using Newton’s backward interpolation method.\n",
    "3. to extrapolate using Newton’s backward interpolation method."
   ]
  },
  {
   "cell_type": "markdown",
   "id": "48918cbe",
   "metadata": {},
   "source": [
    "Use Newtons forward interpolation to obtain the interpolating polynomial and hence\n",
    "calculate y(2) for the following: x: 1 3 5 7 9\n",
    "y: 6 10 62 210 502"
   ]
  },
  {
   "cell_type": "code",
   "execution_count": 8,
   "id": "bc880a31",
   "metadata": {},
   "outputs": [
    {
     "name": "stdout",
     "output_type": "stream",
     "text": [
      " Enter number of data points : 5\n",
      " Enter data for x and y : \n",
      "x [ 0 ]= 1\n",
      "y [ 0 ]= 6\n",
      "x [ 1 ]= 3\n",
      "y [ 1 ]= 10\n",
      "x [ 2 ]= 5\n",
      "y [ 2 ]= 62\n",
      "x [ 3 ]= 7\n",
      "y [ 3 ]= 210\n",
      "x [ 4 ]= 9\n",
      "y [ 4 ]= 502\n",
      "\\ nFORWARD DIFFERENCE TABLE \\ n \n",
      "1.00  \t \t 6.00  \t \t 4.00  \t \t 48.00  \t \t 48.00  \t \t 0.00  \n",
      "3.00  \t \t 10.00  \t \t 52.00  \t \t 96.00  \t \t 48.00  \n",
      "5.00  \t \t 62.00  \t \t 148.00  \t \t 144.00  \n",
      "7.00  \t \t 210.00  \t \t 292.00  \n",
      "9.00  \t \t 502.00  \n",
      "\\ nTHE INTERPOLATING POLYNOMIAL IS \\ n \n",
      "     3        2              \n",
      "1.0⋅t  - 3.0⋅t  + 1.0⋅t + 7.0\n",
      " Do you want to interpolate at a point ( y / n ) ? y\n"
     ]
    }
   ],
   "source": [
    "from sympy import *\n",
    "import numpy as np\n",
    "n = int ( input ( ' Enter number of data points : ') )\n",
    "210\n",
    "x = np . zeros (( n ) )\n",
    "y = np . zeros (( n , n ) )\n",
    "# Reading data points\n",
    "print ( ' Enter data for x and y : ')\n",
    "for i in range ( n ) :\n",
    "    x [ i ] = float ( input ( 'x [ '+ str ( i ) + ' ]= ') )\n",
    "    y [ i ] [ 0 ] = float ( input ( 'y [ '+ str ( i ) + ' ]= ') )\n",
    "# Generating forward difference table\n",
    "for i in range (1 , n ) :\n",
    "    for j in range (0 , n - i ) :\n",
    "        y [ j ] [ i ] = y [ j + 1 ] [ i - 1 ] - y [ j ] [ i - 1 ]\n",
    "print ( '\\ nFORWARD DIFFERENCE TABLE \\ n ') ;\n",
    "for i in range (0 , n ) :\n",
    "    print ( '%0.2f ' % ( x [ i ] ) , end = ' ')\n",
    "    for j in range (0 , n - i ) :\n",
    "        print ( '\\t \\t %0.2f ' % ( y [ i ] [ j ] ) , end = ' ')\n",
    "    print ()\n",
    "# obtaining the polynomial\n",
    "t = symbols ( 't ')\n",
    "f = [ ] # f is a list type data\n",
    "p = ( t - x [ 0 ] ) / ( x [ 1 ] - x [ 0 ] )\n",
    "f . append ( p )\n",
    "for i in range (1 , n - 1 ) :\n",
    "    f . append ( f [ i - 1 ] * ( p - i ) / ( i + 1 ) )\n",
    "    poly = y [ 0 ] [ 0 ]\n",
    "for i in range ( n - 1 ) :\n",
    "    poly = poly + y [ 0 ] [ i + 1 ] * f [ i ]\n",
    "simp_poly = simplify ( poly )\n",
    "print ( '\\ nTHE INTERPOLATING POLYNOMIAL IS \\ n ') ;\n",
    "pprint ( simp_poly )\n",
    "# if you want to interpolate at some point the next session will help\n",
    "inter = input ( ' Do you want to interpolate at a point ( y / n ) ? ') # y\n",
    "if inter == 'y ':\n",
    "    a = float ( input ( ' enter the point ') ) # 2\n",
    "    interpol = lambdify (t , simp_poly )\n",
    "    result = interpol ( a )\n",
    "    print ( '\\ nThe value of the function at ' ,a , ' is \\ n ' , result );"
   ]
  },
  {
   "cell_type": "markdown",
   "id": "74328caf",
   "metadata": {},
   "source": [
    "Use Newtons backward interpolation to obtain the interpolating polynomial and\n",
    "hence calculate y(8) for the following data: x: 1 3 5 7 9\n",
    "y: 6 10 62 210 502"
   ]
  },
  {
   "cell_type": "code",
   "execution_count": 10,
   "id": "1a47aad1",
   "metadata": {},
   "outputs": [
    {
     "name": "stdout",
     "output_type": "stream",
     "text": [
      " This will use Newton 's backword intepolation formula \n",
      " Enter number of data points : 5\n",
      " Enter data for x and y : \n",
      "x [ 0 ]= 1\n",
      "y [ 0 ]= 6\n",
      "x [ 1 ]= 3\n",
      "y [ 1 ]= 10\n",
      "x [ 2 ]= 5\n",
      "y [ 2 ]= 62\n",
      "x [ 3 ]= 7\n",
      "y [ 3 ]= 210\n",
      "x [ 4 ]= 9\n",
      "y [ 4 ]= 502\n",
      "\\ nBACKWARD DIFFERENCE TABLE \\ n \n",
      "1.00  \t 6.00  \n",
      "3.00  \t 10.00  \t 4.00  \n",
      "5.00  \t 62.00  \t 52.00  \t 48.00  \n",
      "7.00  \t 210.00  \t 148.00  \t 96.00  \t 48.00  \n",
      "9.00  \t 502.00  \t 292.00  \t 144.00  \t 48.00  \t 0.00  \n",
      "502.0\n",
      "\\ nTHE INTERPOLATING POLYNOMIAL IS \\ n \n",
      "     3        2              \n",
      "1.0⋅t  - 3.0⋅t  + 1.0⋅t + 7.0\n",
      " Do you want to interpolate at a point ( y / n ) ? y\n"
     ]
    }
   ],
   "source": [
    "from sympy import *\n",
    "import numpy as np\n",
    "import sys\n",
    "print ( \" This will use Newton 's backword intepolation formula \" )\n",
    "# Reading number of unknowns\n",
    "n = int ( input ( ' Enter number of data points : ') )\n",
    "# Making numpy array of n & n x n size and initializing\n",
    "# to zero for storing x and y value along with differences of y\n",
    "x = np . zeros (( n ) )\n",
    "y = np . zeros (( n , n ) )\n",
    "# Reading data points\n",
    "print ( ' Enter data for x and y : ')\n",
    "for i in range ( n ) :\n",
    "    x [ i ] = float ( input ( 'x [ '+ str ( i ) + ' ]= ') )\n",
    "    y [ i ] [ 0 ] = float ( input ( 'y [ '+ str ( i ) + ' ]= ') )\n",
    "# Generating backward difference table\n",
    "for i in range (1 , n ) :\n",
    "    for j in range ( n -1 , i -2 , - 1 ) :\n",
    "        y [ j ] [ i ] = y [ j ] [ i - 1 ] - y [ j - 1 ] [ i - 1 ]\n",
    "print ( '\\ nBACKWARD DIFFERENCE TABLE \\ n ') ;\n",
    "for i in range (0 , n ) :\n",
    "    print ( '%0.2f ' % ( x [ i ] ) , end = ' ')\n",
    "    for j in range (0 , i + 1 ) :\n",
    "        print ( '\\t %0.2f ' % ( y [ i ] [ j ] ) , end = ' ')\n",
    "    print ()\n",
    "# obtaining the polynomial\n",
    "t = symbols ( 't ')\n",
    "f = [ ]\n",
    "p = ( t - x [ n - 1 ] ) / ( x [ 1 ] - x [ 0 ] )\n",
    "f . append ( p )\n",
    "for i in range (1 , n - 1 ) :\n",
    "    f . append ( f [ i - 1 ] * ( p + i ) / ( i + 1 ) )\n",
    "poly = y [ n - 1 ] [ 0 ]\n",
    "print ( poly )\n",
    "for i in range ( n - 1 ) :\n",
    "    poly = poly + y [ n - 1 ] [ i + 1 ] * f [ i ]\n",
    "    simp_poly = simplify ( poly )\n",
    "print ( '\\ nTHE INTERPOLATING POLYNOMIAL IS \\ n ') ;\n",
    "pprint ( simp_poly )\n",
    "# if you want to interpolate at some point the next session will help\n",
    "inter = input ( ' Do you want to interpolate at a point ( y / n ) ? ')\n",
    "if inter == 'y ':\n",
    "    a = float ( input ( ' enter the point ') )\n",
    "    interpol = lambdify (t , simp_poly )\n",
    "    result = interpol ( a )\n",
    "    print ( '\\ nThe value of the function at ' ,a , ' is \\ n ' , result );"
   ]
  },
  {
   "cell_type": "markdown",
   "id": "8ef09b6c",
   "metadata": {},
   "source": [
    "LAB 8: Computation of area under the curve using\n",
    "Trapezoidal, Simpson’s 1\n",
    "3\n",
    "\u0001rd and Simpsons 3\n",
    "8\n",
    "\u0001th rule\n",
    "Objectives:\n",
    "Use python\n",
    "1. to find area under the curve represented by a given function using Trapezoidal rule.\n",
    "2. to find area under the curve represented by a given function using Simpson’s 1\n",
    "3\n",
    "\u0001rd\n",
    "rule.\n",
    "3. to find area under the curve represented by a given function using Simpson’s 3\n",
    "8\n",
    "\u0001th\n",
    "rule.\n",
    "4. to find the area below the curve when discrete points on the curve are given."
   ]
  },
  {
   "cell_type": "markdown",
   "id": "30d9efb7",
   "metadata": {},
   "source": [
    "Evaluate\n",
    "5R\n",
    "0\n",
    "1\n",
    "1+x2 ."
   ]
  },
  {
   "cell_type": "code",
   "execution_count": 12,
   "id": "701a7ad7",
   "metadata": {},
   "outputs": [
    {
     "name": "stdout",
     "output_type": "stream",
     "text": [
      " Enter lower limit of integration : 0\n",
      " Enter upper limit of integration : 5\n",
      " Enter number of sub intervals : 10\n",
      " Integration result by Trapezoidal method is :  1.3731040812301099\n"
     ]
    }
   ],
   "source": [
    "# Definition of the function to integrate\n",
    "def my_func ( x ) :\n",
    "    return 1 / ( 1 + x ** 2 )\n",
    "# Function to implement trapezoidal method\n",
    "def trapezoidal ( x0 , xn , n ) :\n",
    "    h = ( xn - x0 ) / n # Calculating step size\n",
    "    # Finding sum\n",
    "    integration = my_func ( x0 ) + my_func ( xn ) # Adding first and last terms\n",
    "    for i in range (1 , n ) :\n",
    "        k = x0 + i * h # i - th step value\n",
    "        integration = integration + 2 * my_func ( k ) # Adding areas of the trapezoids\n",
    "    # Proportioning sum of trapezoid areas\n",
    "    integration = integration * h / 2\n",
    "    return integration\n",
    "# Input section\n",
    "lower_limit = float ( input ( \" Enter lower limit of integration : \" ) )\n",
    "upper_limit = float ( input ( \" Enter upper limit of integration : \" ) )\n",
    "sub_interval = int ( input ( \" Enter number of sub intervals : \" ) )\n",
    "# Call trapezoidal () method and get result\n",
    "result = trapezoidal ( lower_limit , upper_limit , sub_interval )\n",
    "# Print result\n",
    "print ( \" Integration result by Trapezoidal method is : \" , result )"
   ]
  },
  {
   "cell_type": "markdown",
   "id": "70978eaa",
   "metadata": {},
   "source": [
    "Simpson’s 1\n",
    "3\n",
    "\u0001rd Rule"
   ]
  },
  {
   "cell_type": "markdown",
   "id": "dae8f086",
   "metadata": {},
   "source": [
    "Evaluate\n",
    "5R\n",
    "0\n",
    "1\n",
    "1+x2 ."
   ]
  },
  {
   "cell_type": "code",
   "execution_count": 16,
   "id": "94c7b49b",
   "metadata": {},
   "outputs": [
    {
     "name": "stdout",
     "output_type": "stream",
     "text": [
      " Enter lower limit of integration : 0\n",
      " Enter upper limit of integration : 5\n",
      " Enter number of sub intervals : 100\n",
      " Integration result by Simpson 's 1 / 3 method is : 1.404120 \n"
     ]
    }
   ],
   "source": [
    "# Definition of the function to integrate\n",
    "def my_func ( x ) :\n",
    "    return 1 / ( 1 + x ** 2 )\n",
    "# Function to implement the Simpson 's one - third rule\n",
    "def simpson13 ( x0 , xn , n ) :\n",
    "    h = ( xn - x0 ) / n # calculating step size\n",
    "    # Finding sum\n",
    "    integration = ( my_func ( x0 ) + my_func ( xn ) )\n",
    "    k = x0\n",
    "    for i in range (1 , n ) :\n",
    "        if i % 2 == 0 :\n",
    "            integration = integration + 4 * my_func ( k )\n",
    "        else :\n",
    "            integration = integration + 2 * my_func ( k )\n",
    "        k += h\n",
    "    # Finding final integration value\n",
    "    integration = integration * h * ( 1 / 3 )\n",
    "    return integration\n",
    "# Input section\n",
    "lower_limit = float ( input ( \" Enter lower limit of integration : \" ) )\n",
    "upper_limit = float ( input ( \" Enter upper limit of integration : \" ) )\n",
    "sub_interval = int ( input ( \" Enter number of sub intervals : \" ) )\n",
    "# Call trapezoidal () method and get result\n",
    "result = simpson13 ( lower_limit , upper_limit , sub_interval )\n",
    "print ( \" Integration result by Simpson 's 1 / 3 method is : %0.6f \" % ( result ))"
   ]
  },
  {
   "cell_type": "markdown",
   "id": "b6b15e82",
   "metadata": {},
   "source": [
    "Simpson’s 3/8th rule"
   ]
  },
  {
   "cell_type": "markdown",
   "id": "e57fc9ef",
   "metadata": {},
   "source": [
    "Evaluate R 6\n",
    "0\n",
    "1\n",
    "1+x2 dx using Simpson’s 3/8 th rule, taking 6 sub intervals"
   ]
  },
  {
   "cell_type": "code",
   "execution_count": 18,
   "id": "6a3db8bd",
   "metadata": {},
   "outputs": [
    {
     "name": "stdout",
     "output_type": "stream",
     "text": [
      "1.27631 \n"
     ]
    }
   ],
   "source": [
    "def simpsons_3_8_rule (f , a , b , n ) :\n",
    "    h = ( b - a ) / n\n",
    "    s = f ( a ) + f ( b )\n",
    "    for i in range (1 , n , 3 ) :\n",
    "        s += 3 * f ( a + i * h )\n",
    "    for i in range (3 , n -1 , 3 ) :\n",
    "        s += 3 * f ( a + i * h )\n",
    "    for i in range (2 , n -2 , 3 ) :\n",
    "        s += 2 * f ( a + i * h )\n",
    "    return s * 3 * h / 8\n",
    "def f ( x ) :\n",
    "    return 1 / ( 1 + x ** 2 ) # function here\n",
    "a = 0 # lower limit\n",
    "b = 6 # upper limit\n",
    "n = 6 # number of sub intervals\n",
    "result = simpsons_3_8_rule (f , a , b , n )\n",
    "print ('%3.5f '% result )"
   ]
  },
  {
   "cell_type": "markdown",
   "id": "cbe206d4",
   "metadata": {},
   "source": [
    "LAB 9: Solution of ODE of first order and first degree\n",
    "by Taylor’s series and Modified Euler’s method\n",
    "Objectives:\n",
    "Use python\n",
    "1. to solve ODE by Taylor series method.\n",
    "2. to solve ODE by Modified Euler method.\n",
    "3. to trace the solution curves."
   ]
  },
  {
   "cell_type": "markdown",
   "id": "c9c3220c",
   "metadata": {},
   "source": [
    "Taylor series method to solve ODE"
   ]
  },
  {
   "cell_type": "markdown",
   "id": "2b4c7243",
   "metadata": {},
   "source": [
    "Solve: dy\n",
    "dx − 2y = 3ex with y(0) = 0 using Taylor series method at x = 0.1(0.1)0.3."
   ]
  },
  {
   "cell_type": "code",
   "execution_count": 23,
   "id": "66b57ae0",
   "metadata": {},
   "outputs": [
    {
     "name": "stdout",
     "output_type": "stream",
     "text": [
      "The required values are : at x = 0.00, y = 0.00000, x = 0.10, y = 0.34850, x = 0.20, y = 0.81079, x = 0.30, y = 1.41590\n"
     ]
    }
   ],
   "source": [
    "from numpy import array, zeros, exp\n",
    "\n",
    "def taylor(deriv, x, y, xStop, h):\n",
    "    X = []\n",
    "    Y = []\n",
    "    X.append(x)\n",
    "    Y.append(y)\n",
    "    while x < xStop:  # Loop over integration steps\n",
    "        D = deriv(x, y)  # Derivatives of y\n",
    "        H = 1.0\n",
    "        for j in range(3):  # Build Taylor series\n",
    "            H = H * h / (j + 1)\n",
    "            y = y + D[j] * H  # H = h ^ j / j!\n",
    "        x = x + h\n",
    "        X.append(x)  # Append results to\n",
    "        Y.append(y)  # lists X and Y\n",
    "    return array(X), array(Y)  # Convert lists into arrays\n",
    "\n",
    "def deriv(x, y):\n",
    "    D = zeros((4, 1))\n",
    "    D[0] = 2 * y + 3 * exp(x)\n",
    "    D[1] = 4 * y + 9 * exp(x)\n",
    "    D[2] = 8 * y + 21 * exp(x)\n",
    "    D[3] = 16 * y + 45 * exp(x)\n",
    "    return D\n",
    "\n",
    "x = 0.0  # Initial value of x\n",
    "xStop = 0.3  # Last value of x\n",
    "y = array([0.0])  # Initial values of y\n",
    "h = 0.1  # Step size\n",
    "X, Y = taylor(deriv, x, y, xStop, h)\n",
    "print(\"The required values are : at x = %0.2f, y = %0.5f, x = %0.2f, y = %0.5f, x = %0.2f, y = %0.5f, x = %0.2f, y = %0.5f\" % \n",
    "      (X[0], Y[0][0], X[1], Y[1][0], X[2], Y[2][0], X[3], Y[3][0]))"
   ]
  },
  {
   "cell_type": "markdown",
   "id": "f5b92062",
   "metadata": {},
   "source": [
    "Solve y′ + 4y = x2 with initial conditions y(0) = 1 using Taylor series method at x =\n",
    "0.1, 0.2."
   ]
  },
  {
   "cell_type": "code",
   "execution_count": 25,
   "id": "18bb1686",
   "metadata": {},
   "outputs": [
    {
     "name": "stdout",
     "output_type": "stream",
     "text": [
      "The required values are: at x = 0.00, y = 1.00000, x = 0.10, y = 0.66967, x = 0.20, y = 0.45026\n"
     ]
    }
   ],
   "source": [
    "from numpy import array, zeros\n",
    "\n",
    "def taylor(deriv, x, y, xStop, h):\n",
    "    X = []\n",
    "    Y = []\n",
    "    X.append(x)\n",
    "    Y.append(y)\n",
    "    while x < xStop:  # Loop over integration steps\n",
    "        D = deriv(x, y)  # Derivatives of y\n",
    "        H = 1.0\n",
    "        for j in range(3):  # Build Taylor series\n",
    "            H = H * h / (j + 1)\n",
    "            y = y + D[j] * H  # H = h ^ j / j !\n",
    "        x = x + h\n",
    "        X.append(x)  # Append results to\n",
    "        Y.append(y)  # lists X and Y\n",
    "    return array(X), array(Y)  # Convert lists into arrays\n",
    "\n",
    "def deriv(x, y):\n",
    "    D = zeros((4, 1))\n",
    "    D[0] = [x ** 2 - 4 * y[0]]\n",
    "    D[1] = [2 * x - 4 * x ** 2 + 16 * y[0]]\n",
    "    D[2] = [2 - 8 * x + 16 * x ** 2 - 64 * y[0]]\n",
    "    D[3] = [-8 + 32 * x - 64 * x ** 2 + 256 * y[0]]\n",
    "    return D\n",
    "\n",
    "x = 0.0  # Initial value of x\n",
    "xStop = 0.2  # last value\n",
    "y = array([1.0])  # Initial values of y\n",
    "h = 0.1  # Step size\n",
    "X, Y = taylor(deriv, x, y, xStop, h)\n",
    "print(\"The required values are: at x = %0.2f, y = %0.5f, x = %0.2f, y = %0.5f, x = %0.2f, y = %0.5f\" % (X[0], Y[0], X[1], Y[1], X[2], Y[2]))"
   ]
  },
  {
   "cell_type": "markdown",
   "id": "a0f69e2a",
   "metadata": {},
   "source": [
    "Modified Euler’s method\n",
    "\n",
    "The iterative formula is:\n",
    "y(n+1)\n",
    "1 = y0 + h\n",
    "2 [f (x0, y0) + f (x1, y(n)\n",
    "1 )], n = 0, 1, 2, 3, . . . ,\n",
    "where, y(n)\n",
    "1 is the nth approximation to y1.\n",
    "The first iteration will use Euler’s method: y(0)\n",
    "1 = y0 + hf (x0, y0).\n",
    "Solve y′ = −ky with y(0) = 100 using modified Euler’s method at x = 100, by taking\n",
    "h = 25."
   ]
  },
  {
   "cell_type": "code",
   "execution_count": 26,
   "id": "edb19f49",
   "metadata": {},
   "outputs": [
    {
     "name": "stdout",
     "output_type": "stream",
     "text": [
      "The required value at x = 100.00, y = 37.25290\n",
      "\n",
      "\n",
      "\n"
     ]
    },
    {
     "data": {
      "image/png": "[encoded data removed]",
      "text/plain": [
       "<Figure size 640x480 with 1 Axes>"
      ]
     },
     "metadata": {},
     "output_type": "display_data"
    }
   ],
   "source": [
    "import numpy as np\n",
    "import matplotlib.pyplot as plt\n",
    "\n",
    "def modified_euler(f, x0, y0, h, n):\n",
    "    x = np.zeros(n + 1)\n",
    "    y = np.zeros(n + 1)\n",
    "    x[0] = x0\n",
    "    y[0] = y0\n",
    "    for i in range(n):\n",
    "        x[i + 1] = x[i] + h\n",
    "        k1 = h * f(x[i], y[i])\n",
    "        k2 = h * f(x[i + 1], y[i] + k1)\n",
    "        y[i + 1] = y[i] + 0.5 * (k1 + k2)\n",
    "    return x, y\n",
    "\n",
    "def f(x, y):\n",
    "    return -0.01 * y  # ODE dy/dx = -ky\n",
    "\n",
    "x0 = 0.0\n",
    "y0 = 100.0\n",
    "h = 25\n",
    "n = 4\n",
    "x, y = modified_euler(f, x0, y0, h, n)\n",
    "print(\"The required value at x = %0.2f, y = %0.5f\" % (x[4], y[4]))\n",
    "print(\"\\n\\n\")\n",
    "\n",
    "# Plotting the results\n",
    "plt.plot(x, y, 'bo-')\n",
    "plt.xlabel('x')\n",
    "plt.ylabel('y')\n",
    "plt.title('Solution of dy/dx = -ky using Modified Euler\\'s Method')\n",
    "plt.grid(True)\n",
    "plt.show()"
   ]
  },
  {
   "cell_type": "markdown",
   "id": "958decee",
   "metadata": {},
   "source": [
    "LAB 10: Solution of ODE of first order and first de-\n",
    "gree by Runge-Kutta 4th order method and Milne’s\n",
    "predictor and corrector method\n",
    "10.1 Objectives:\n",
    "1. To write a python program to solve first order differential equation using 4th order\n",
    "Runge Kutta method.\n",
    "2. To write a python program to solve first order differential equation using Milne’s\n",
    "predictor and corrector method"
   ]
  },
  {
   "cell_type": "markdown",
   "id": "49f7b6dd",
   "metadata": {},
   "source": [
    "Runge-Kutta method\n",
    "Apply the Runge Kutta method to find the solution of dy/dx = 1 + (y/x) at y(2) taking\n",
    "h = 0.2. Given that y(1) = 2."
   ]
  },
  {
   "cell_type": "code",
   "execution_count": 5,
   "id": "bdf70a9c",
   "metadata": {},
   "outputs": [
    {
     "data": {
      "text/plain": [
       "array([2.  , 2.62, 3.27, 3.95, 4.66, 5.39])"
      ]
     },
     "execution_count": 5,
     "metadata": {},
     "output_type": "execute_result"
    }
   ],
   "source": [
    "from sympy import *\n",
    "import numpy as np\n",
    "def RungeKutta (g , x0 ,h , y0 , xn ) :\n",
    "    x , y = symbols ( 'x , y ')\n",
    "    f = lambdify ( [x , y ] ,g )\n",
    "    xt = x0 + h\n",
    "    Y = [ y0 ]\n",
    "    while xt <= xn :\n",
    "        k1 = h * f ( x0 , y0 )\n",
    "        k2 = h * f ( x0 + h /2 , y0 + k1 / 2 )\n",
    "        k3 = h * f ( x0 + h /2 , y0 + k2 / 2 )\n",
    "        k4 = h * f ( x0 +h , y0 + k3 )\n",
    "        y1 = y0 + ( 1 / 6 ) * ( k1 + 2 * k2 + 2 * k3 + k4 )\n",
    "        Y . append ( y1 )\n",
    "        x0 = xt\n",
    "        y0 = y1\n",
    "        xt = xt + h\n",
    "    return np . round (Y , 2 )\n",
    "RungeKutta ( '1 +( y / x ) ' ,1 , 0.2 ,2 , 2 )"
   ]
  },
  {
   "cell_type": "markdown",
   "id": "2d02e796",
   "metadata": {},
   "source": [
    "Milne’s predictor and corrector method\n",
    "Apply Milne’s predictor and corrector method to solve dy/dx = x2 + (y/2) at y(1.4).\n",
    "Given that y(1)=2, y(1.1)=2.2156, y(1.2)=2.4649, y(1.3)=2.7514. Use corrector formula\n",
    "thrice."
   ]
  },
  {
   "cell_type": "code",
   "execution_count": 9,
   "id": "fed2d4ab",
   "metadata": {},
   "outputs": [
    {
     "name": "stdout",
     "output_type": "stream",
     "text": [
      " predicted value of y4 is  3.079 \n",
      " corrected value of y4 after \t iteration  1 is \t  3.07940 \t \n",
      " corrected value of y4 after \t iteration  2 is \t  3.07940 \t \n",
      " corrected value of y4 after \t iteration  3 is \t  3.07940 \t \n"
     ]
    }
   ],
   "source": [
    "x0 = 1\n",
    "y0 = 2\n",
    "y1 = 2.2156\n",
    "y2 = 2.4649\n",
    "y3 = 2.7514\n",
    "h = 0.1\n",
    "x1 = x0 + h\n",
    "x2 = x1 + h\n",
    "x3 = x2 + h\n",
    "x4 = x3 + h\n",
    "def f (x , y ) :\n",
    "    return x ** 2 + ( y / 2 )\n",
    "\n",
    "y10 = f ( x0 , y0 )\n",
    "y11 = f ( x1 , y1 )\n",
    "y12 = f ( x2 , y2 )\n",
    "y13 = f ( x3 , y3 )\n",
    "y4p = y0 + ( 4 * h / 3 ) * ( 2 * y11 - y12 + 2 * y13 )\n",
    "print ( ' predicted value of y4 is % 3.3f '% y4p )\n",
    "y14 = f ( x4 , y4p ) ;\n",
    "for i in range (1 , 4 ) :\n",
    "    y4 = y2 + ( h / 3 ) * ( y14 + 4 * y13 + y12 ) ;\n",
    "    print ( ' corrected value of y4 after \\t iteration % d is \\t % 3.5f \\t '%(i , y4 ) )\n",
    "y14 = f ( x4 , y4 );"
   ]
  },
  {
   "cell_type": "markdown",
   "id": "27fe01ee",
   "metadata": {},
   "source": [
    "LAB 2: Computation of basis and dimension for a vec-\n",
    "tor space and graphical representation of linear trans-\n",
    "formation\n",
    "Objectives:\n",
    "Use python\n",
    "1. to verify the Rank nullity theorem of given linear transformation.\n",
    "2. to compute the dimension of vector space.\n",
    "3. to represent linear transformations graphically."
   ]
  },
  {
   "cell_type": "markdown",
   "id": "557ccc51",
   "metadata": {},
   "source": [
    "Verify the rank-nullity theorem for the linear transformation T : R3 → R3 defined by\n",
    "T (x, y, z) = (x + 4y + 7z, 2x + 5y + 8z, 3x + 6y + 9z)."
   ]
  },
  {
   "cell_type": "code",
   "execution_count": 2,
   "id": "9f09ae7b",
   "metadata": {},
   "outputs": [
    {
     "name": "stdout",
     "output_type": "stream",
     "text": [
      " Rank of the matrix  2\n",
      " Null space of the matrix  [[ 0.40824829]\n",
      " [-0.81649658]\n",
      " [ 0.40824829]]\n",
      " Null space of the matrix  1\n",
      " Rank - nullity theorem holds . \n"
     ]
    }
   ],
   "source": [
    "import numpy as np\n",
    "from scipy . linalg import null_space\n",
    "# Define a linear transformation interms of matrix\n",
    "A = np . array ( [ [1 , 2 , 3 ] , [4 , 5 , 6 ] , [7 , 8 , 9 ] ] )\n",
    "# Find the rank of the matrix A\n",
    "rank = np . linalg . matrix_rank ( A )\n",
    "print ( \" Rank of the matrix \" , rank )\n",
    "# Find the null space of the matrix A\n",
    "ns = null_space ( A )\n",
    "print ( \" Null space of the matrix \" , ns )\n",
    "# Find the dimension of the null space\n",
    "nullity = ns . shape [ 1 ]\n",
    "print ( \" Null space of the matrix \" , nullity )\n",
    "# Verify the rank - nullity theorem\n",
    "if rank + nullity == A . shape [ 1 ] :\n",
    "    print ( \" Rank - nullity theorem holds . \" )\n",
    "else :\n",
    "    print ( \" Rank - nullity theorem does not hold . \" )"
   ]
  },
  {
   "cell_type": "markdown",
   "id": "379f8791",
   "metadata": {},
   "source": [
    "Find the dimension of subspace spanned by the vectors (1, 2, 3), (2, 3, 1) and (3, 1, 2)."
   ]
  },
  {
   "cell_type": "code",
   "execution_count": 3,
   "id": "cf55ef8e",
   "metadata": {},
   "outputs": [
    {
     "name": "stdout",
     "output_type": "stream",
     "text": [
      " Basis of the matrix  3\n",
      " Dimension of the matrix  3\n"
     ]
    }
   ],
   "source": [
    "import numpy as np\n",
    "# Define the vector space V\n",
    "V = np . array ( [\n",
    "[1 , 2 , 3 ] ,\n",
    "[2 , 3 , 1 ] ,\n",
    "[3 , 1 , 2 ] ] )\n",
    "# Find the dimension and basis of V\n",
    "basis = np . linalg . matrix_rank ( V )\n",
    "dimension = V . shape [ 0 ]\n",
    "print ( \" Basis of the matrix \" , basis )\n",
    "print ( \" Dimension of the matrix \" , dimension )"
   ]
  },
  {
   "cell_type": "markdown",
   "id": "51af9cc7",
   "metadata": {},
   "source": [
    "Represent the horizontal stretch transformation T : R2ßR2 geometrically\n",
    "Find the image of vector (10, 0) when it is stretched horizontally by 2 units."
   ]
  },
  {
   "cell_type": "code",
   "execution_count": 7,
   "id": "e9832fad",
   "metadata": {},
   "outputs": [
    {
     "data": {
      "image/png": "[encoded data removed]",
      "text/plain": [
       "<Figure size 640x480 with 1 Axes>"
      ]
     },
     "metadata": {},
     "output_type": "display_data"
    }
   ],
   "source": [
    "import numpy as np\n",
    "import matplotlib.pyplot as plt\n",
    "V = np.array ( [ [ 10 , 0 ] ] )\n",
    "origin = np.array ( [ [0 , 0 , 0 ] ,[0 , 0 , 0 ] ] ) # origin point\n",
    "A = np.matrix ( [ [2 , 0 ] ,[0 , 1 ] ] )\n",
    "V1 = np.matrix ( V )\n",
    "V2 = A*np.transpose ( V1 )\n",
    "V2 = np.array ( V2 )\n",
    "plt.quiver (*origin, V[:,0] , V[:,1] ,color = ['b'],scale = 50 )\n",
    "plt.quiver (*origin, V2[0,:] , V2[1,:],color = ['r'],scale = 50 )\n",
    "plt.show ()"
   ]
  },
  {
   "cell_type": "code",
   "execution_count": null,
   "id": "57994b44",
   "metadata": {},
   "outputs": [],
   "source": []
  }
 ],
 "metadata": {
  "kernelspec": {
   "display_name": "Python 3 (ipykernel)",
   "language": "python",
   "name": "python3"
  },
  "language_info": {
   "codemirror_mode": {
    "name": "ipython",
    "version": 3
   },
   "file_extension": ".py",
   "mimetype": "text/x-python",
   "name": "python",
   "nbconvert_exporter": "python",
   "pygments_lexer": "ipython3",
   "version": "3.11.5"
  }
 },
 "nbformat": 4,
 "nbformat_minor": 5
}
